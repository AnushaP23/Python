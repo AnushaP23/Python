{
  "nbformat": 4,
  "nbformat_minor": 0,
  "metadata": {
    "colab": {
      "provenance": []
    },
    "kernelspec": {
      "name": "python3",
      "display_name": "Python 3"
    },
    "language_info": {
      "name": "python"
    }
  },
  "cells": [
    {
      "cell_type": "code",
      "execution_count": 1,
      "metadata": {
        "id": "sGlCOoU0BaIj"
      },
      "outputs": [],
      "source": [
        "#Decision statements"
      ]
    },
    {
      "cell_type": "code",
      "source": [
        "a=10\n",
        "b=20"
      ],
      "metadata": {
        "id": "qR1lTqF-BfQN"
      },
      "execution_count": 2,
      "outputs": []
    },
    {
      "cell_type": "code",
      "source": [
        "if(b>a):\n",
        "  print(\"b is greater than a\")\n",
        "else:\n",
        "  print(\"a is greater than b\")"
      ],
      "metadata": {
        "colab": {
          "base_uri": "https://localhost:8080/"
        },
        "id": "811FQeFlB_55",
        "outputId": "c52cc212-a3e7-4d58-bff5-e6794ebb9176"
      },
      "execution_count": 3,
      "outputs": [
        {
          "output_type": "stream",
          "name": "stdout",
          "text": [
            "b is greater than a\n"
          ]
        }
      ]
    },
    {
      "cell_type": "code",
      "source": [
        "a = 10\n",
        "b = 20\n",
        "c = 30"
      ],
      "metadata": {
        "id": "Y0Cdlu_2CISq"
      },
      "execution_count": 4,
      "outputs": []
    },
    {
      "cell_type": "code",
      "source": [
        "if(a>b & a>c):\n",
        "  print(\"a is greatest\")\n",
        "\n",
        "elif(b>a & b>c):\n",
        "    print(\"b is greatest\")\n",
        "else:\n",
        "  print(\"c is the greatest\")"
      ],
      "metadata": {
        "colab": {
          "base_uri": "https://localhost:8080/"
        },
        "id": "s-7UVSW9QCG2",
        "outputId": "618ce528-3c87-428f-ccb8-58ad06de1ea1"
      },
      "execution_count": 5,
      "outputs": [
        {
          "output_type": "stream",
          "name": "stdout",
          "text": [
            "c is the greatest\n"
          ]
        }
      ]
    },
    {
      "cell_type": "code",
      "source": [
        "# if with tuple"
      ],
      "metadata": {
        "id": "8GXcMy6CQcLT"
      },
      "execution_count": 6,
      "outputs": []
    },
    {
      "cell_type": "code",
      "source": [
        "tup1 = ('a', 'b', 'c')"
      ],
      "metadata": {
        "id": "hkC7TBd7Qo2y"
      },
      "execution_count": 7,
      "outputs": []
    },
    {
      "cell_type": "code",
      "source": [
        "if 'z' in tup1:\n",
        "  print(\"value z is present in tup1\")\n",
        "else:\n",
        "  print(\"value z is not present in tup1\")"
      ],
      "metadata": {
        "colab": {
          "base_uri": "https://localhost:8080/"
        },
        "id": "YyoEdGidQsey",
        "outputId": "54ffc2e9-1364-41c8-af5f-2363e192db62"
      },
      "execution_count": 10,
      "outputs": [
        {
          "output_type": "stream",
          "name": "stdout",
          "text": [
            "value z is not present in tup1\n"
          ]
        }
      ]
    },
    {
      "cell_type": "code",
      "source": [
        "# if with list"
      ],
      "metadata": {
        "id": "JVR1vwFvQzJ0"
      },
      "execution_count": 11,
      "outputs": []
    },
    {
      "cell_type": "code",
      "source": [
        "l1 = ['a','b','c']"
      ],
      "metadata": {
        "id": "4ShZj8aZRDHY"
      },
      "execution_count": 12,
      "outputs": []
    },
    {
      "cell_type": "code",
      "source": [
        "if l1[1]=='b':\n",
        "  l1[1]='z'"
      ],
      "metadata": {
        "id": "YyIStTePRGS6"
      },
      "execution_count": 13,
      "outputs": []
    },
    {
      "cell_type": "code",
      "source": [
        "l1"
      ],
      "metadata": {
        "colab": {
          "base_uri": "https://localhost:8080/"
        },
        "id": "b6_j14uFRPXp",
        "outputId": "83188e2f-aae0-4b65-f922-35ced85ae04b"
      },
      "execution_count": 14,
      "outputs": [
        {
          "output_type": "execute_result",
          "data": {
            "text/plain": [
              "['a', 'z', 'c']"
            ]
          },
          "metadata": {},
          "execution_count": 14
        }
      ]
    },
    {
      "cell_type": "code",
      "source": [
        "#if with dictionary"
      ],
      "metadata": {
        "id": "7E3T_dmjRP2I"
      },
      "execution_count": 15,
      "outputs": []
    },
    {
      "cell_type": "code",
      "source": [
        "d1 = {'k1':10, 'k2':20, 'k3':30}"
      ],
      "metadata": {
        "id": "C6MMTS2BRUiA"
      },
      "execution_count": 25,
      "outputs": []
    },
    {
      "cell_type": "code",
      "source": [
        "d1"
      ],
      "metadata": {
        "colab": {
          "base_uri": "https://localhost:8080/"
        },
        "id": "5d-A2IhWRZw0",
        "outputId": "0481b0c5-51b8-457f-8a29-55f033d2f426"
      },
      "execution_count": 26,
      "outputs": [
        {
          "output_type": "execute_result",
          "data": {
            "text/plain": [
              "{'k1': 10, 'k2': 20, 'k3': 30}"
            ]
          },
          "metadata": {},
          "execution_count": 26
        }
      ]
    },
    {
      "cell_type": "code",
      "source": [
        "if d1['k3']==30:\n",
        "  d1['k3']=d1['k3'] + 100"
      ],
      "metadata": {
        "id": "aqKhcZCURanY"
      },
      "execution_count": 27,
      "outputs": []
    },
    {
      "cell_type": "code",
      "source": [
        "d1"
      ],
      "metadata": {
        "colab": {
          "base_uri": "https://localhost:8080/"
        },
        "id": "jAcRwOhjRmLO",
        "outputId": "63804ed6-17f1-4fd5-e459-83f4913327e4"
      },
      "execution_count": 28,
      "outputs": [
        {
          "output_type": "execute_result",
          "data": {
            "text/plain": [
              "{'k1': 10, 'k2': 20, 'k3': 130}"
            ]
          },
          "metadata": {},
          "execution_count": 28
        }
      ]
    },
    {
      "cell_type": "code",
      "source": [
        "#Looping statements"
      ],
      "metadata": {
        "id": "LIh_XBA1RucG"
      },
      "execution_count": 29,
      "outputs": []
    },
    {
      "cell_type": "code",
      "source": [
        "#Looping statements = looping statements are used to repeat a task multiple times"
      ],
      "metadata": {
        "id": "GBw2TkwdhUC2"
      },
      "execution_count": 30,
      "outputs": []
    },
    {
      "cell_type": "code",
      "source": [
        "i = 1\n",
        "while(i<=10):\n",
        "  print(i)\n",
        "  i=i+1"
      ],
      "metadata": {
        "colab": {
          "base_uri": "https://localhost:8080/"
        },
        "id": "KPeTnHtwhtEN",
        "outputId": "a9633485-12b4-4456-cf00-336c32ca60e5"
      },
      "execution_count": 32,
      "outputs": [
        {
          "output_type": "stream",
          "name": "stdout",
          "text": [
            "1\n",
            "2\n",
            "3\n",
            "4\n",
            "5\n",
            "6\n",
            "7\n",
            "8\n",
            "9\n",
            "10\n"
          ]
        }
      ]
    },
    {
      "cell_type": "code",
      "source": [
        "i = 1\n",
        "n = 2\n",
        "while(i<=10):\n",
        "  print(n, ' * ', i, \" = \", n*i)\n",
        "  i=i+1"
      ],
      "metadata": {
        "colab": {
          "base_uri": "https://localhost:8080/"
        },
        "id": "OOkMXz93laza",
        "outputId": "6a632199-3c90-4e08-a699-3f3712279b8f"
      },
      "execution_count": 33,
      "outputs": [
        {
          "output_type": "stream",
          "name": "stdout",
          "text": [
            "2  *  1  =  2\n",
            "2  *  2  =  4\n",
            "2  *  3  =  6\n",
            "2  *  4  =  8\n",
            "2  *  5  =  10\n",
            "2  *  6  =  12\n",
            "2  *  7  =  14\n",
            "2  *  8  =  16\n",
            "2  *  9  =  18\n",
            "2  *  10  =  20\n"
          ]
        }
      ]
    },
    {
      "cell_type": "code",
      "source": [
        "#while with list"
      ],
      "metadata": {
        "id": "IkXNTyDql99d"
      },
      "execution_count": 34,
      "outputs": []
    },
    {
      "cell_type": "code",
      "source": [
        "l1 = [1,2,3,4,5]\n",
        "i=0"
      ],
      "metadata": {
        "id": "o8afBlEAmMi7"
      },
      "execution_count": 56,
      "outputs": []
    },
    {
      "cell_type": "code",
      "source": [
        "while(i<len(l1)):\n",
        "  l1[i]=l1[i]+100\n",
        "  i=i+1"
      ],
      "metadata": {
        "id": "8wbhIMUqmPKt"
      },
      "execution_count": 57,
      "outputs": []
    },
    {
      "cell_type": "code",
      "source": [
        "l1"
      ],
      "metadata": {
        "colab": {
          "base_uri": "https://localhost:8080/"
        },
        "id": "IEudhRPuma82",
        "outputId": "e57f0bae-6c41-4d0c-884f-a2c75be6c0f2"
      },
      "execution_count": 58,
      "outputs": [
        {
          "output_type": "execute_result",
          "data": {
            "text/plain": [
              "[101, 102, 103, 104, 105]"
            ]
          },
          "metadata": {},
          "execution_count": 58
        }
      ]
    },
    {
      "cell_type": "code",
      "source": [
        "#for loop"
      ],
      "metadata": {
        "id": "WsqAP6VwmfAN"
      },
      "execution_count": 59,
      "outputs": []
    },
    {
      "cell_type": "code",
      "source": [
        " #for loop = for loop is used to iterate over a sequence(tuple,list,dictionary,...)"
      ],
      "metadata": {
        "id": "FQBQhkXIm-3u"
      },
      "execution_count": 60,
      "outputs": []
    },
    {
      "cell_type": "code",
      "source": [
        "l1 = [\"mango\", \"apple\",\"grapes\",\"orange\"]"
      ],
      "metadata": {
        "id": "_Q1H32LrnOY0"
      },
      "execution_count": 61,
      "outputs": []
    },
    {
      "cell_type": "code",
      "source": [
        "l1"
      ],
      "metadata": {
        "colab": {
          "base_uri": "https://localhost:8080/"
        },
        "id": "jbkwWvPvnddC",
        "outputId": "7b18a446-8d99-4bf9-b4c7-afe2ba2e6a10"
      },
      "execution_count": 62,
      "outputs": [
        {
          "output_type": "execute_result",
          "data": {
            "text/plain": [
              "['mango', 'apple', 'grapes', 'orange']"
            ]
          },
          "metadata": {},
          "execution_count": 62
        }
      ]
    },
    {
      "cell_type": "code",
      "source": [
        "for i in l1:\n",
        "  print(i)"
      ],
      "metadata": {
        "colab": {
          "base_uri": "https://localhost:8080/"
        },
        "id": "a9Eg61_hneGo",
        "outputId": "28bf9b05-dbb5-40b3-f46f-7eea0f212935"
      },
      "execution_count": 64,
      "outputs": [
        {
          "output_type": "stream",
          "name": "stdout",
          "text": [
            "mango\n",
            "apple\n",
            "grapes\n",
            "orange\n"
          ]
        }
      ]
    },
    {
      "cell_type": "code",
      "source": [
        "l1 = ['orange','black','white']\n",
        "l2 = ['chair','book','laptop']"
      ],
      "metadata": {
        "id": "eNO88Nfenh59"
      },
      "execution_count": 65,
      "outputs": []
    },
    {
      "cell_type": "code",
      "source": [
        "for i in l1:\n",
        "  for j in l2:\n",
        "    print(i,' ',j)"
      ],
      "metadata": {
        "colab": {
          "base_uri": "https://localhost:8080/"
        },
        "id": "2Ao6GKmfnz-8",
        "outputId": "c72795df-a0ab-494a-c0ff-c5cc9e51b93d"
      },
      "execution_count": 66,
      "outputs": [
        {
          "output_type": "stream",
          "name": "stdout",
          "text": [
            "orange   chair\n",
            "orange   book\n",
            "orange   laptop\n",
            "black   chair\n",
            "black   book\n",
            "black   laptop\n",
            "white   chair\n",
            "white   book\n",
            "white   laptop\n"
          ]
        }
      ]
    },
    {
      "cell_type": "code",
      "source": [
        "#function"
      ],
      "metadata": {
        "id": "V5WRtvKPn_8v"
      },
      "execution_count": 67,
      "outputs": []
    },
    {
      "cell_type": "code",
      "source": [
        "#function = function is a block of code which performs a specific task"
      ],
      "metadata": {
        "id": "jT17fe3kowC1"
      },
      "execution_count": 68,
      "outputs": []
    },
    {
      "cell_type": "code",
      "source": [
        "def hello():\n",
        "  print(\"Hello world\")"
      ],
      "metadata": {
        "id": "g6LAcvABo2pG"
      },
      "execution_count": 69,
      "outputs": []
    },
    {
      "cell_type": "code",
      "source": [
        "hello()"
      ],
      "metadata": {
        "colab": {
          "base_uri": "https://localhost:8080/"
        },
        "id": "U7R71zBhpcXs",
        "outputId": "fb11c171-aecf-4fe0-c27d-24f9fd60f765"
      },
      "execution_count": 70,
      "outputs": [
        {
          "output_type": "stream",
          "name": "stdout",
          "text": [
            "Hello world\n"
          ]
        }
      ]
    },
    {
      "cell_type": "code",
      "source": [
        "def add(x):\n",
        "  return x + 10"
      ],
      "metadata": {
        "id": "602HWUP2pdUR"
      },
      "execution_count": 72,
      "outputs": []
    },
    {
      "cell_type": "code",
      "source": [
        "add(5)"
      ],
      "metadata": {
        "colab": {
          "base_uri": "https://localhost:8080/"
        },
        "id": "NRKLTw7Bptxv",
        "outputId": "6a5c4850-2ac8-4cbd-abc2-a3e550c3adac"
      },
      "execution_count": 73,
      "outputs": [
        {
          "output_type": "execute_result",
          "data": {
            "text/plain": [
              "15"
            ]
          },
          "metadata": {},
          "execution_count": 73
        }
      ]
    },
    {
      "cell_type": "code",
      "source": [
        "add(9)"
      ],
      "metadata": {
        "colab": {
          "base_uri": "https://localhost:8080/"
        },
        "id": "yvAF9m84pxad",
        "outputId": "df500eb3-5ae7-4113-ae74-34de10732128"
      },
      "execution_count": 74,
      "outputs": [
        {
          "output_type": "execute_result",
          "data": {
            "text/plain": [
              "19"
            ]
          },
          "metadata": {},
          "execution_count": 74
        }
      ]
    },
    {
      "cell_type": "code",
      "source": [
        "def evenOrOdd(x):\n",
        "  if(x%2 == 0):\n",
        "    print(\"Even\")\n",
        "  else:\n",
        "    print(\"Odd\")"
      ],
      "metadata": {
        "id": "Ks2V7toup2k0"
      },
      "execution_count": 75,
      "outputs": []
    },
    {
      "cell_type": "code",
      "source": [
        "evenOrOdd(10)"
      ],
      "metadata": {
        "colab": {
          "base_uri": "https://localhost:8080/"
        },
        "id": "xIRqa1wLqAEJ",
        "outputId": "2eb47d8e-498c-401a-c750-590b1522639c"
      },
      "execution_count": 76,
      "outputs": [
        {
          "output_type": "stream",
          "name": "stdout",
          "text": [
            "Even\n"
          ]
        }
      ]
    },
    {
      "cell_type": "code",
      "source": [
        "evenOrOdd(11)"
      ],
      "metadata": {
        "colab": {
          "base_uri": "https://localhost:8080/"
        },
        "id": "RMllB08oqBhA",
        "outputId": "a68ed04f-1136-4d91-84aa-da2bc21754ce"
      },
      "execution_count": 77,
      "outputs": [
        {
          "output_type": "stream",
          "name": "stdout",
          "text": [
            "Odd\n"
          ]
        }
      ]
    },
    {
      "cell_type": "code",
      "source": [
        "#lambda function= it is called as anonoumous function"
      ],
      "metadata": {
        "id": "VUGRRG-vqEGr"
      },
      "execution_count": 78,
      "outputs": []
    },
    {
      "cell_type": "code",
      "source": [
        "#It does not have any name and it will be defined in single line"
      ],
      "metadata": {
        "id": "jT-IcH7pqSnr"
      },
      "execution_count": 79,
      "outputs": []
    },
    {
      "cell_type": "code",
      "source": [
        "g = lambda x: x*x*x"
      ],
      "metadata": {
        "id": "-KSsK_HZqaJF"
      },
      "execution_count": 80,
      "outputs": []
    },
    {
      "cell_type": "code",
      "source": [
        "g(7)"
      ],
      "metadata": {
        "colab": {
          "base_uri": "https://localhost:8080/"
        },
        "id": "UWGSWUc4qlm_",
        "outputId": "7d4d233a-2691-4d1d-f739-64dffe90943d"
      },
      "execution_count": 81,
      "outputs": [
        {
          "output_type": "execute_result",
          "data": {
            "text/plain": [
              "343"
            ]
          },
          "metadata": {},
          "execution_count": 81
        }
      ]
    },
    {
      "cell_type": "code",
      "source": [
        "g(5)"
      ],
      "metadata": {
        "colab": {
          "base_uri": "https://localhost:8080/"
        },
        "id": "GbZDIUA5qoJA",
        "outputId": "81743abe-ac1e-45f2-9438-a42caf9f491f"
      },
      "execution_count": 82,
      "outputs": [
        {
          "output_type": "execute_result",
          "data": {
            "text/plain": [
              "125"
            ]
          },
          "metadata": {},
          "execution_count": 82
        }
      ]
    },
    {
      "cell_type": "code",
      "source": [
        "g(10)"
      ],
      "metadata": {
        "colab": {
          "base_uri": "https://localhost:8080/"
        },
        "id": "Jbj23cQcqrKM",
        "outputId": "b73ce061-b3c0-4657-9ab8-0cadff9f04af"
      },
      "execution_count": 83,
      "outputs": [
        {
          "output_type": "execute_result",
          "data": {
            "text/plain": [
              "1000"
            ]
          },
          "metadata": {},
          "execution_count": 83
        }
      ]
    },
    {
      "cell_type": "code",
      "source": [
        "#lambda with filter"
      ],
      "metadata": {
        "id": "tzuwH2dmqtNP"
      },
      "execution_count": 84,
      "outputs": []
    },
    {
      "cell_type": "code",
      "source": [
        "l1 = [1,2,3,78,34,56,77,98,90,27]"
      ],
      "metadata": {
        "id": "YgfTCzVkqxq-"
      },
      "execution_count": 85,
      "outputs": []
    },
    {
      "cell_type": "code",
      "source": [
        "len(l1)"
      ],
      "metadata": {
        "colab": {
          "base_uri": "https://localhost:8080/"
        },
        "id": "gxkNFKPjq-lw",
        "outputId": "537c9e5d-860d-47f0-cdc6-471e801d2b55"
      },
      "execution_count": 86,
      "outputs": [
        {
          "output_type": "execute_result",
          "data": {
            "text/plain": [
              "10"
            ]
          },
          "metadata": {},
          "execution_count": 86
        }
      ]
    },
    {
      "cell_type": "code",
      "source": [
        "final_list = list(filter(lambda x: (x%2 ==0),l1))"
      ],
      "metadata": {
        "id": "IayzLDVHq_lj"
      },
      "execution_count": 89,
      "outputs": []
    },
    {
      "cell_type": "code",
      "source": [
        "final_list"
      ],
      "metadata": {
        "colab": {
          "base_uri": "https://localhost:8080/"
        },
        "id": "Tl6avvZYrpJU",
        "outputId": "12bfef0a-6ced-496f-cc39-8efd2e72a38d"
      },
      "execution_count": 90,
      "outputs": [
        {
          "output_type": "execute_result",
          "data": {
            "text/plain": [
              "[2, 78, 34, 56, 98, 90]"
            ]
          },
          "metadata": {},
          "execution_count": 90
        }
      ]
    },
    {
      "cell_type": "code",
      "source": [
        "#lambda with map"
      ],
      "metadata": {
        "id": "G-uht-xDrpzp"
      },
      "execution_count": 91,
      "outputs": []
    },
    {
      "cell_type": "code",
      "source": [
        "l1 = [1,2,3,4,5,6,7,8]"
      ],
      "metadata": {
        "id": "2V5C6drxr0Bo"
      },
      "execution_count": 92,
      "outputs": []
    },
    {
      "cell_type": "code",
      "source": [
        "list_final_new =list(map(lambda x: x*2,l1))"
      ],
      "metadata": {
        "id": "8tpXeS0er3x0"
      },
      "execution_count": 93,
      "outputs": []
    },
    {
      "cell_type": "code",
      "source": [
        "list_final_new"
      ],
      "metadata": {
        "colab": {
          "base_uri": "https://localhost:8080/"
        },
        "id": "rQrrLUpGsT2I",
        "outputId": "252e44ef-b664-4f00-8089-05dd564b7d0e"
      },
      "execution_count": 94,
      "outputs": [
        {
          "output_type": "execute_result",
          "data": {
            "text/plain": [
              "[2, 4, 6, 8, 10, 12, 14, 16]"
            ]
          },
          "metadata": {},
          "execution_count": 94
        }
      ]
    },
    {
      "cell_type": "code",
      "source": [
        "#lambda with reduce"
      ],
      "metadata": {
        "id": "zCD4I3BmsU0X"
      },
      "execution_count": 95,
      "outputs": []
    },
    {
      "cell_type": "code",
      "source": [
        "#import reduce from functools"
      ],
      "metadata": {
        "id": "pqfWd5HyscIJ"
      },
      "execution_count": 97,
      "outputs": []
    },
    {
      "cell_type": "code",
      "source": [
        "from functools import reduce"
      ],
      "metadata": {
        "id": "9ZbdXTcnsenO"
      },
      "execution_count": 98,
      "outputs": []
    },
    {
      "cell_type": "code",
      "source": [
        "#If you want one final result over something then you use reduce"
      ],
      "metadata": {
        "id": "u0ZImLJqsnEy"
      },
      "execution_count": 99,
      "outputs": []
    },
    {
      "cell_type": "code",
      "source": [
        "#map is used when you want to access each element of a list"
      ],
      "metadata": {
        "id": "fwM7YHo-szTO"
      },
      "execution_count": 100,
      "outputs": []
    },
    {
      "cell_type": "code",
      "source": [
        "sum = reduce(lambda x, y: x+y,l1)"
      ],
      "metadata": {
        "id": "xXZ852Yis4S0"
      },
      "execution_count": 102,
      "outputs": []
    },
    {
      "cell_type": "code",
      "source": [
        "sum"
      ],
      "metadata": {
        "colab": {
          "base_uri": "https://localhost:8080/"
        },
        "id": "RQpq_DkqtLt7",
        "outputId": "2890155e-b053-439a-8f99-e5e03dd1c4cb"
      },
      "execution_count": 103,
      "outputs": [
        {
          "output_type": "execute_result",
          "data": {
            "text/plain": [
              "36"
            ]
          },
          "metadata": {},
          "execution_count": 103
        }
      ]
    },
    {
      "cell_type": "code",
      "source": [],
      "metadata": {
        "id": "Qnf8RrXptQVD"
      },
      "execution_count": null,
      "outputs": []
    }
  ]
}