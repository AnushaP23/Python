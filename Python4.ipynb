{
  "nbformat": 4,
  "nbformat_minor": 0,
  "metadata": {
    "colab": {
      "provenance": []
    },
    "kernelspec": {
      "name": "python3",
      "display_name": "Python 3"
    },
    "language_info": {
      "name": "python"
    }
  },
  "cells": [
    {
      "cell_type": "code",
      "execution_count": null,
      "metadata": {
        "id": "PdaNluQztw9Q"
      },
      "outputs": [],
      "source": [
        "#Object oriented programming"
      ]
    },
    {
      "cell_type": "code",
      "source": [
        "#Object = Objects are real world entity"
      ],
      "metadata": {
        "id": "bqpRHUVnt9VD"
      },
      "execution_count": null,
      "outputs": []
    },
    {
      "cell_type": "code",
      "source": [
        "#Class = class is a template/blue-print for real-world entities"
      ],
      "metadata": {
        "id": "CbanvWAyuImN"
      },
      "execution_count": null,
      "outputs": []
    },
    {
      "cell_type": "code",
      "source": [
        "#Two important feature of class are properties and behaviour"
      ],
      "metadata": {
        "id": "CluXqQ_luZLV"
      },
      "execution_count": null,
      "outputs": []
    },
    {
      "cell_type": "code",
      "source": [
        "#Class is a user-defined data-type"
      ],
      "metadata": {
        "id": "Q0aC2BhAukTG"
      },
      "execution_count": null,
      "outputs": []
    },
    {
      "cell_type": "code",
      "source": [
        "#Inside this user-defined data-type it has attributes and methods"
      ],
      "metadata": {
        "id": "IXRe5PksuxxF"
      },
      "execution_count": null,
      "outputs": []
    },
    {
      "cell_type": "code",
      "source": [
        "#Objects = objects are specific instances of a class"
      ],
      "metadata": {
        "id": "aOb6B-WjvFzy"
      },
      "execution_count": null,
      "outputs": []
    },
    {
      "cell_type": "code",
      "source": [
        "class Phone:\n",
        "  def make_call(self):\n",
        "    print(\"I am making a call\")\n",
        "\n",
        "  def play_game(self):\n",
        "    print(\"I am playing a game\")"
      ],
      "metadata": {
        "id": "XkrRSp-kvSUD"
      },
      "execution_count": null,
      "outputs": []
    },
    {
      "cell_type": "code",
      "source": [
        "p1 = Phone()"
      ],
      "metadata": {
        "id": "fcZxHbFszLy_"
      },
      "execution_count": null,
      "outputs": []
    },
    {
      "cell_type": "code",
      "source": [
        "p1.make_call()"
      ],
      "metadata": {
        "colab": {
          "base_uri": "https://localhost:8080/"
        },
        "id": "wU48rJs1zNGm",
        "outputId": "bbbfcb7e-ee5e-40a0-dc9c-b7da019a7e66"
      },
      "execution_count": null,
      "outputs": [
        {
          "output_type": "stream",
          "name": "stdout",
          "text": [
            "I am making a call\n"
          ]
        }
      ]
    },
    {
      "cell_type": "code",
      "source": [
        "p1.play_game()"
      ],
      "metadata": {
        "colab": {
          "base_uri": "https://localhost:8080/"
        },
        "id": "5X0v9_29zOSJ",
        "outputId": "af65a933-aac3-4adf-b9d8-6687952e9146"
      },
      "execution_count": null,
      "outputs": [
        {
          "output_type": "stream",
          "name": "stdout",
          "text": [
            "I am playing a game\n"
          ]
        }
      ]
    },
    {
      "cell_type": "code",
      "source": [
        "class Phone:\n",
        "  def set_color(self,color):\n",
        "    self.color = color\n",
        "\n",
        "  def set_cost(self,cost):\n",
        "    self.cost = cost\n",
        "\n",
        "  def show_color(self):\n",
        "    return self.color\n",
        "\n",
        "  def show_cost(self):\n",
        "    return self.cost\n",
        "\n",
        "  def make_call(self):\n",
        "    print(\"I am making a call\")\n",
        "\n",
        "  def play_game(self):\n",
        "    print(\"I am playing a game\")"
      ],
      "metadata": {
        "id": "mBu-QakszPj9"
      },
      "execution_count": null,
      "outputs": []
    },
    {
      "cell_type": "code",
      "source": [
        "p1 = Phone()"
      ],
      "metadata": {
        "id": "InhxhPPI0br8"
      },
      "execution_count": null,
      "outputs": []
    },
    {
      "cell_type": "code",
      "source": [
        "p1.set_color('red')"
      ],
      "metadata": {
        "id": "NnF53Dn60cro"
      },
      "execution_count": null,
      "outputs": []
    },
    {
      "cell_type": "code",
      "source": [
        "p1.show_color()"
      ],
      "metadata": {
        "colab": {
          "base_uri": "https://localhost:8080/",
          "height": 35
        },
        "id": "1kzWb7Kp0eSB",
        "outputId": "4abd3fbd-57ac-4deb-e73f-aafff2da00f6"
      },
      "execution_count": null,
      "outputs": [
        {
          "output_type": "execute_result",
          "data": {
            "text/plain": [
              "'red'"
            ],
            "application/vnd.google.colaboratory.intrinsic+json": {
              "type": "string"
            }
          },
          "metadata": {},
          "execution_count": 15
        }
      ]
    },
    {
      "cell_type": "code",
      "source": [
        "p1.set_cost(100)"
      ],
      "metadata": {
        "id": "H55Cym9b0fUB"
      },
      "execution_count": null,
      "outputs": []
    },
    {
      "cell_type": "code",
      "source": [
        "p1.show_color()"
      ],
      "metadata": {
        "colab": {
          "base_uri": "https://localhost:8080/",
          "height": 35
        },
        "id": "LilKPQS-0hBH",
        "outputId": "1660bdd2-9733-472e-b0e7-697b1de8aa52"
      },
      "execution_count": null,
      "outputs": [
        {
          "output_type": "execute_result",
          "data": {
            "text/plain": [
              "'red'"
            ],
            "application/vnd.google.colaboratory.intrinsic+json": {
              "type": "string"
            }
          },
          "metadata": {},
          "execution_count": 17
        }
      ]
    },
    {
      "cell_type": "code",
      "source": [
        "p1.make_call()"
      ],
      "metadata": {
        "colab": {
          "base_uri": "https://localhost:8080/"
        },
        "id": "bqX7MNIv0iee",
        "outputId": "4a17b3f6-57d2-4aa8-a66a-3aff138738ee"
      },
      "execution_count": null,
      "outputs": [
        {
          "output_type": "stream",
          "name": "stdout",
          "text": [
            "I am making a call\n"
          ]
        }
      ]
    },
    {
      "cell_type": "code",
      "source": [
        "p1.play_game()"
      ],
      "metadata": {
        "colab": {
          "base_uri": "https://localhost:8080/"
        },
        "id": "Zp3s2_td0jkN",
        "outputId": "ded8f60f-ffb9-4083-a828-ab6fdceb3292"
      },
      "execution_count": null,
      "outputs": [
        {
          "output_type": "stream",
          "name": "stdout",
          "text": [
            "I am playing a game\n"
          ]
        }
      ]
    },
    {
      "cell_type": "code",
      "source": [
        "#Constructor"
      ],
      "metadata": {
        "id": "OQYUJcOv0k_t"
      },
      "execution_count": null,
      "outputs": []
    },
    {
      "cell_type": "code",
      "source": [
        "class Employee:\n",
        "  def __init__(self,name,age,salary,gender):\n",
        "    self.name = name\n",
        "    self.age = age\n",
        "    self.salary = salary\n",
        "    self.gemder = gender\n",
        "\n",
        "  def employee_details(self):\n",
        "    print(\"Employee name: \",self.name)\n",
        "    print(\"Employee age: \",self.age)\n",
        "    print(\"Employee salary: \",self.salary)\n",
        "    print(\"Employee gender: \",self.gemder)"
      ],
      "metadata": {
        "id": "5Ujac4FT08x7"
      },
      "execution_count": null,
      "outputs": []
    },
    {
      "cell_type": "code",
      "source": [
        "e1 = Employee('Sam',32,85000,'Male')"
      ],
      "metadata": {
        "id": "dOZHSgjn2ClP"
      },
      "execution_count": null,
      "outputs": []
    },
    {
      "cell_type": "code",
      "source": [
        "e1.employee_details()"
      ],
      "metadata": {
        "colab": {
          "base_uri": "https://localhost:8080/"
        },
        "id": "EPFipnRJ2GhM",
        "outputId": "4d425e80-b6d9-4afb-e98f-993a1f7b92e9"
      },
      "execution_count": null,
      "outputs": [
        {
          "output_type": "stream",
          "name": "stdout",
          "text": [
            "Employee name:  Sam\n",
            "Employee age:  32\n",
            "Employee salary:  85000\n",
            "Employee gender:  Male\n"
          ]
        }
      ]
    },
    {
      "cell_type": "code",
      "source": [
        "#Inheritance"
      ],
      "metadata": {
        "id": "uYk7l1DF2I3H"
      },
      "execution_count": null,
      "outputs": []
    },
    {
      "cell_type": "code",
      "source": [
        "#Inheritance = With inheritance one class can derive the properties of another class"
      ],
      "metadata": {
        "id": "MfpIwgXl2bST"
      },
      "execution_count": null,
      "outputs": []
    },
    {
      "cell_type": "code",
      "source": [
        "class vehicle:\n",
        "  def __init__(self,mileage,cost):\n",
        "    self.mileage = mileage\n",
        "    self.cost = cost\n",
        "\n",
        "  def show_vehicle_details(self):\n",
        "    print(\"mileage of vehicle is: \",self.mileage)\n",
        "    print(\"cost of vehicle is: \",self.cost)\n",
        "    print(\"I am a vehicle\")"
      ],
      "metadata": {
        "id": "srgeu1_22h-0"
      },
      "execution_count": 1,
      "outputs": []
    },
    {
      "cell_type": "code",
      "source": [
        "v1 = vehicle(500,500)"
      ],
      "metadata": {
        "id": "4CtbkIdEOpJm"
      },
      "execution_count": 2,
      "outputs": []
    },
    {
      "cell_type": "code",
      "source": [
        "v1.show_vehicle_details()"
      ],
      "metadata": {
        "colab": {
          "base_uri": "https://localhost:8080/",
          "height": 0
        },
        "id": "i661MJD4OsBU",
        "outputId": "1a4274b9-50a3-4ea4-d1ff-53f989c24037"
      },
      "execution_count": 3,
      "outputs": [
        {
          "output_type": "stream",
          "name": "stdout",
          "text": [
            "mileage of vehicle is:  500\n",
            "cost of vehicle is:  500\n",
            "I am a vehicle\n"
          ]
        }
      ]
    },
    {
      "cell_type": "code",
      "source": [
        "class car(vehicle):\n",
        "  def show_car_details(self):\n",
        "    print(\"I am a car\")"
      ],
      "metadata": {
        "id": "zHZzHMLjOt43"
      },
      "execution_count": 4,
      "outputs": []
    },
    {
      "cell_type": "code",
      "source": [
        "c1 = car(400,600)"
      ],
      "metadata": {
        "id": "Bi0yM0NOPMgL"
      },
      "execution_count": 5,
      "outputs": []
    },
    {
      "cell_type": "code",
      "source": [
        "c1.show_vehicle_details()"
      ],
      "metadata": {
        "colab": {
          "base_uri": "https://localhost:8080/",
          "height": 0
        },
        "id": "98JN65qWPPB8",
        "outputId": "e98beb58-6e90-4ea2-ef9e-1e0fe49f8dbf"
      },
      "execution_count": 6,
      "outputs": [
        {
          "output_type": "stream",
          "name": "stdout",
          "text": [
            "mileage of vehicle is:  400\n",
            "cost of vehicle is:  600\n",
            "I am a vehicle\n"
          ]
        }
      ]
    },
    {
      "cell_type": "code",
      "source": [
        "c1.show_car_details()"
      ],
      "metadata": {
        "colab": {
          "base_uri": "https://localhost:8080/",
          "height": 0
        },
        "id": "fJPc1poePRSN",
        "outputId": "2854febb-6963-4e06-e2d6-66d0e65db677"
      },
      "execution_count": 7,
      "outputs": [
        {
          "output_type": "stream",
          "name": "stdout",
          "text": [
            "I am a car\n"
          ]
        }
      ]
    },
    {
      "cell_type": "code",
      "source": [
        "class cars(vehicle):\n",
        "  def __init__(self,mileage,cost,tyres,hp):\n",
        "    super().__init__(mileage,cost)\n",
        "    self.tyres = tyres\n",
        "    self.hp = hp\n",
        "\n",
        "  def show_cars_details(self):\n",
        "    print(\"I am a cars\")\n",
        "    print(\"No of tyres: \",self.tyres)\n",
        "    print(\"No of hp: \",self.hp)"
      ],
      "metadata": {
        "id": "kEimNv0KPTsQ"
      },
      "execution_count": 12,
      "outputs": []
    },
    {
      "cell_type": "code",
      "source": [
        "c2 = cars(600,200000,8,999)"
      ],
      "metadata": {
        "id": "mm6Yz9MZQuNg"
      },
      "execution_count": 13,
      "outputs": []
    },
    {
      "cell_type": "code",
      "source": [
        "c2.show_vehicle_details()"
      ],
      "metadata": {
        "colab": {
          "base_uri": "https://localhost:8080/",
          "height": 0
        },
        "id": "Gyt99X17QwYv",
        "outputId": "5a122f8e-1195-4aa2-8b48-eec440cf63fc"
      },
      "execution_count": 14,
      "outputs": [
        {
          "output_type": "stream",
          "name": "stdout",
          "text": [
            "mileage of vehicle is:  600\n",
            "cost of vehicle is:  200000\n",
            "I am a vehicle\n"
          ]
        }
      ]
    },
    {
      "cell_type": "code",
      "source": [
        "c2.show_cars_details()"
      ],
      "metadata": {
        "colab": {
          "base_uri": "https://localhost:8080/",
          "height": 0
        },
        "id": "EFi7TsMtRDFY",
        "outputId": "ec8bc3f4-a847-41d3-f07b-5fbc5a78ed18"
      },
      "execution_count": 15,
      "outputs": [
        {
          "output_type": "stream",
          "name": "stdout",
          "text": [
            "I am a cars\n",
            "No of tyres:  8\n",
            "No of hp:  999\n"
          ]
        }
      ]
    },
    {
      "cell_type": "code",
      "source": [
        "#Types of inheritance"
      ],
      "metadata": {
        "id": "nCz2Xv3lREpY"
      },
      "execution_count": 16,
      "outputs": []
    },
    {
      "cell_type": "code",
      "source": [
        "#Single inheritance\n",
        "#Multiple inheritance\n",
        "#Multi-level inheritance\n",
        "#Hybrid inheritance"
      ],
      "metadata": {
        "id": "qCm9SNswRqjS"
      },
      "execution_count": 17,
      "outputs": []
    },
    {
      "cell_type": "code",
      "source": [
        "#Multiple inheritance = In multiple inheritance, the child inherits from more than 1 parent class"
      ],
      "metadata": {
        "id": "cQQUlMvoR4EF"
      },
      "execution_count": 18,
      "outputs": []
    },
    {
      "cell_type": "code",
      "source": [
        "class parent1:\n",
        "  def assign_string_one(self,str1):\n",
        "    self.str1 = str1\n",
        "\n",
        "  def show_string_one(self):\n",
        "    return self.str1"
      ],
      "metadata": {
        "id": "AUMSxoQTSLkk"
      },
      "execution_count": 19,
      "outputs": []
    },
    {
      "cell_type": "code",
      "source": [
        "class parent2:\n",
        "  def assign_string_two(self,str2):\n",
        "    self.str2 = str2\n",
        "\n",
        "  def show_string_two(self):\n",
        "    return self.str2"
      ],
      "metadata": {
        "id": "d8oQAwSvS9Ka"
      },
      "execution_count": 20,
      "outputs": []
    },
    {
      "cell_type": "code",
      "source": [
        "class derived(parent1, parent2):\n",
        "  def assign_string_three(self,str3):\n",
        "    self.str3 = str3\n",
        "\n",
        "  def show_string_three(self):\n",
        "    return self.str3"
      ],
      "metadata": {
        "id": "Urh0nLmqTHdJ"
      },
      "execution_count": 21,
      "outputs": []
    },
    {
      "cell_type": "code",
      "source": [
        "d1 = derived()"
      ],
      "metadata": {
        "id": "nnA54zQ_TTAL"
      },
      "execution_count": 22,
      "outputs": []
    },
    {
      "cell_type": "code",
      "source": [
        "d1.assign_string_one(\"One\")\n",
        "d1.assign_string_two(\"Two\")\n",
        "d1.assign_string_three(\"Three\")"
      ],
      "metadata": {
        "id": "vs0DGygaTUQV"
      },
      "execution_count": 23,
      "outputs": []
    },
    {
      "cell_type": "code",
      "source": [
        "d1.show_string_one()"
      ],
      "metadata": {
        "colab": {
          "base_uri": "https://localhost:8080/",
          "height": 35
        },
        "id": "HT_94kU5TcuY",
        "outputId": "cf0c7dcd-7c98-4c04-8cb0-06e5c467b16d"
      },
      "execution_count": 24,
      "outputs": [
        {
          "output_type": "execute_result",
          "data": {
            "text/plain": [
              "'One'"
            ],
            "application/vnd.google.colaboratory.intrinsic+json": {
              "type": "string"
            }
          },
          "metadata": {},
          "execution_count": 24
        }
      ]
    },
    {
      "cell_type": "code",
      "source": [
        "d1.show_string_two()"
      ],
      "metadata": {
        "colab": {
          "base_uri": "https://localhost:8080/",
          "height": 35
        },
        "id": "Nt5JRhSYTew4",
        "outputId": "83ff2a2a-12c0-46ea-e75a-9b2970051caf"
      },
      "execution_count": 25,
      "outputs": [
        {
          "output_type": "execute_result",
          "data": {
            "text/plain": [
              "'Two'"
            ],
            "application/vnd.google.colaboratory.intrinsic+json": {
              "type": "string"
            }
          },
          "metadata": {},
          "execution_count": 25
        }
      ]
    },
    {
      "cell_type": "code",
      "source": [
        "d1.show_string_three()"
      ],
      "metadata": {
        "colab": {
          "base_uri": "https://localhost:8080/",
          "height": 35
        },
        "id": "-bMIZMGFTglJ",
        "outputId": "36f7100f-2304-4f1d-cd20-ed997b80ae20"
      },
      "execution_count": 26,
      "outputs": [
        {
          "output_type": "execute_result",
          "data": {
            "text/plain": [
              "'Three'"
            ],
            "application/vnd.google.colaboratory.intrinsic+json": {
              "type": "string"
            }
          },
          "metadata": {},
          "execution_count": 26
        }
      ]
    },
    {
      "cell_type": "code",
      "source": [
        "#Multi-level inheritance = in multi-level inheritance, we have parent,child,grand-child relationship"
      ],
      "metadata": {
        "id": "gELGZoB7TiNe"
      },
      "execution_count": 27,
      "outputs": []
    },
    {
      "cell_type": "code",
      "source": [
        "class parent:\n",
        "  def get_name(self,name):\n",
        "    self.name = name\n",
        "\n",
        "  def show_name(self):\n",
        "    return self.name"
      ],
      "metadata": {
        "id": "EHgF2PcVT8ae"
      },
      "execution_count": 28,
      "outputs": []
    },
    {
      "cell_type": "code",
      "source": [
        "class child(parent):\n",
        "  def get_age(self,age):\n",
        "    self.age = age\n",
        "\n",
        "  def show_age(self):\n",
        "    return self.age"
      ],
      "metadata": {
        "id": "S1wODe5LUedV"
      },
      "execution_count": 29,
      "outputs": []
    },
    {
      "cell_type": "code",
      "source": [
        "class grandchild(child):\n",
        "  def get_gender(self,gender):\n",
        "    self.gender = gender\n",
        "\n",
        "  def show_gender(self):\n",
        "    return self.gender"
      ],
      "metadata": {
        "id": "5kI_VxKDUm-J"
      },
      "execution_count": 30,
      "outputs": []
    },
    {
      "cell_type": "code",
      "source": [
        "g1 = grandchild()"
      ],
      "metadata": {
        "id": "-O53WVXjUzPx"
      },
      "execution_count": 31,
      "outputs": []
    },
    {
      "cell_type": "code",
      "source": [
        "g1.get_name('anusha')"
      ],
      "metadata": {
        "id": "06sbzf_9U7Xn"
      },
      "execution_count": 32,
      "outputs": []
    },
    {
      "cell_type": "code",
      "source": [
        "g1.get_age(21)"
      ],
      "metadata": {
        "id": "MQDZj6JoVAa8"
      },
      "execution_count": 33,
      "outputs": []
    },
    {
      "cell_type": "code",
      "source": [
        "g1.get_gender(\"F\")"
      ],
      "metadata": {
        "id": "7wyklI9TVCii"
      },
      "execution_count": 34,
      "outputs": []
    },
    {
      "cell_type": "code",
      "source": [
        "g1.show_name()"
      ],
      "metadata": {
        "colab": {
          "base_uri": "https://localhost:8080/",
          "height": 35
        },
        "id": "vVXYJukCVEe9",
        "outputId": "b53a6fe8-998c-437a-e24e-8d50b3d01279"
      },
      "execution_count": 35,
      "outputs": [
        {
          "output_type": "execute_result",
          "data": {
            "text/plain": [
              "'anusha'"
            ],
            "application/vnd.google.colaboratory.intrinsic+json": {
              "type": "string"
            }
          },
          "metadata": {},
          "execution_count": 35
        }
      ]
    },
    {
      "cell_type": "code",
      "source": [
        "g1.show_age()"
      ],
      "metadata": {
        "colab": {
          "base_uri": "https://localhost:8080/",
          "height": 0
        },
        "id": "9BsBeHGMVFnh",
        "outputId": "beaf9158-5988-491f-efbb-618f404f7cf2"
      },
      "execution_count": 36,
      "outputs": [
        {
          "output_type": "execute_result",
          "data": {
            "text/plain": [
              "21"
            ]
          },
          "metadata": {},
          "execution_count": 36
        }
      ]
    },
    {
      "cell_type": "code",
      "source": [
        "g1.show_gender()"
      ],
      "metadata": {
        "colab": {
          "base_uri": "https://localhost:8080/",
          "height": 35
        },
        "id": "AWVrcX2MVHim",
        "outputId": "5c50e165-5e0e-43ed-913e-4db04dab7bf7"
      },
      "execution_count": 37,
      "outputs": [
        {
          "output_type": "execute_result",
          "data": {
            "text/plain": [
              "'F'"
            ],
            "application/vnd.google.colaboratory.intrinsic+json": {
              "type": "string"
            }
          },
          "metadata": {},
          "execution_count": 37
        }
      ]
    },
    {
      "cell_type": "code",
      "source": [],
      "metadata": {
        "id": "0HTWEdvIVJG5"
      },
      "execution_count": null,
      "outputs": []
    }
  ]
}